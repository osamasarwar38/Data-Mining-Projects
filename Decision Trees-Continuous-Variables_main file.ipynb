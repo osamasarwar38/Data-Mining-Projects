{
 "cells": [
  {
   "cell_type": "markdown",
   "metadata": {
    "collapsed": true,
    "slideshow": {
     "slide_type": "slide"
    }
   },
   "source": [
    "\n",
    "#",
    "----\n",
    "## Goal\n",
    "\n",
    "The goal in this project is to implement a Decision Tree Classifier.\n",
    "\n",
    "**Note** Please note that you are allowed to use only those libraries which we have discussed in the class, i.e. numpy, scipy, pandas. You can use scikit-learn only for data splitting.\n",
    "\n",
    "## Submission Instructions\n",
    "You are required to submit the original notebook file on the Classsroom (with .ipynb extension), with complete set of outputs. Students failing to do so will get zero marks. \n",
    "\n",
    "*Please read each step carefully and understand it fully before proceeding with code writing*\n",
    "\n",
    "## Plagiarism\n",
    "Any form of plagiarism will not be tolerated and result in 0 marks.\n",
    "\n"
   ]
  },
  {
   "cell_type": "markdown",
   "metadata": {},
   "source": [
    "### Decision Tree Classifier\n",
    "\n",
    "Now in this assignment we will be implementing the Decision Classifier for Continuous attributes.\n",
    "\n",
    "You will be testing your implementations with only one split criteria, namely:\n",
    " - Information Gain\n"
   ]
  },
  {
   "cell_type": "code",
   "execution_count": 1,
   "metadata": {
    "scrolled": true,
    "slideshow": {
     "slide_type": "slide"
    }
   },
   "outputs": [
    {
     "name": "stdout",
     "output_type": "stream",
     "text": [
      "Populating the interactive namespace from numpy and matplotlib\n"
     ]
    }
   ],
   "source": [
    "%pylab inline\n",
    "import scipy.stats\n",
    "from collections import defaultdict  # default dictionary \n",
    "from random import randint\n",
    "import math"
   ]
  },
  {
   "cell_type": "code",
   "execution_count": 2,
   "metadata": {
    "deletable": false,
    "nbgrader": {
     "checksum": "5f673a73f08c6a76dd52953330389488",
     "grade": false,
     "grade_id": "node",
     "locked": false,
     "solution": true
    },
    "scrolled": true
   },
   "outputs": [],
   "source": [
    "class Node:\n",
    "    def __init__(self,purity,klasslabel='',score=0,split=[],fidx=-1):\n",
    "        self.lchild=None       \n",
    "        self.rchild=None\n",
    "        self.klasslabel=klasslabel        \n",
    "        self.split=split\n",
    "        self.score=score\n",
    "        self.fidx=fidx\n",
    "        self.purity=purity\n",
    "        \n",
    "    def set_childs(self,lchild,rchild):\n",
    "        # YOUR CODE HERE\n",
    "        self.lchild=lchild\n",
    "        self.rchild=rchild\n",
    "        \n",
    "    def isleaf(self):\n",
    "        # YOUR CODE HERE\n",
    "        if self.lchild==None and self.rchild==None:\n",
    "            return True\n",
    "        else:\n",
    "            return False\n",
    "        \n",
    "        raise NotImplementedError()\n",
    "    def isless_than_eq(self, X):\n",
    "        # YOUR CODE HERE\n",
    "        raise NotImplementedError()\n",
    "    def get_str(self):        \n",
    "        if self.isleaf():\n",
    "            return 'C(class={},Purity={})'.format(self.klasslabel,self.purity)\n",
    "        else:\n",
    "            return 'I(Fidx={},Score={},Split={})'.format(self.fidx,self.score,self.split)\n",
    "    "
   ]
  },
  {
   "cell_type": "code",
   "execution_count": 3,
   "metadata": {
    "scrolled": true
   },
   "outputs": [],
   "source": [
    "# A placeholder class \n",
    "# TODO: You have to implement the following class, remember from the lectures that you will \n",
    "# need to build a model for each different class you are trying to identify..."
   ]
  },
  {
   "cell_type": "code",
   "execution_count": 4,
   "metadata": {
    "deletable": false,
    "nbgrader": {
     "checksum": "823ecf560a3fef28b50be423ab4fd6a5",
     "grade": false,
     "grade_id": "tree",
     "locked": false,
     "solution": true
    },
    "scrolled": false,
    "slideshow": {
     "slide_type": "slide"
    }
   },
   "outputs": [],
   "source": [
    "## Your code goes here...\n",
    "# You might need to define auxliary classes for composition.. ?\n",
    "class DecisionTree:\n",
    "    ''' Implements the Decision Tree For Classification... '''\n",
    "    def __init__(self, purityp, exthreshold,maxdepth=10):        \n",
    "        self.purity=purityp\n",
    "        self.exthreshold=exthreshold\n",
    "        self.maxdepth=maxdepth\n",
    "        pass\n",
    "    def train(self, X, Y):\n",
    "        ''' Train Decision Tree using the given \n",
    "            X [m x d] data matrix and Y labels matrix\n",
    "            \n",
    "            Input:\n",
    "            ------\n",
    "            X: [m x d] a data matrix of m d-dimensional examples.\n",
    "            Y: [m x 1] a label vector.\n",
    "            \n",
    "            Returns:\n",
    "            -----------\n",
    "            Nothing\n",
    "            '''\n",
    "        self.nexamples,self.nfeatures=X.shape\n",
    "        ## now go and train a model for each class...\n",
    "        # YOUR CODE HERE\n",
    "        depth=0   \n",
    "        self.tree = self.build_tree(X,Y,0)\n",
    "        \n",
    "        \n",
    "    def build_tree(self, X, Y, depth):\n",
    "        # YOUR CODE HERE\n",
    "        nexamples, nfeatures=X.shape\n",
    "      \n",
    "        klasses=np.unique(Y);\n",
    "        Y_count = np.unique(Y,return_counts=True)\n",
    "        purity_ = np.max(Y_count[1])/float(len(Y))\n",
    "        class_ = Y_count[0][np.argmax(Y_count[1])]\n",
    "        if(purity_>self.purity or nexamples<self.exthreshold or depth>self.maxdepth):\n",
    "            return Node(klasslabel=class_,purity=purity_)\n",
    "        bscore = +np.inf\n",
    "        bfeature = 0\n",
    "        lchild = []\n",
    "        rchild = []\n",
    "        fidx=-1\n",
    "        threshold = 0\n",
    "        for i in range(nfeatures):\n",
    "            sthreshold,sscore,lid,rid = self.evaluate_numerical_attribute(X[:,i],Y)\n",
    "            if(sscore<bscore):\n",
    "                bscore = sscore\n",
    "                lchild = lid\n",
    "                rchild = rid\n",
    "                fidx=i\n",
    "                threshold=sthreshold\n",
    "        node = Node(purity=purity_,score=sscore,split=threshold,fidx=fidx)\n",
    "        node.lchild = self.build_tree(X[lchild],Y[lchild],depth+1)\n",
    "        node.rchild = self.build_tree(X[rchild],Y[rchild],depth+1)\n",
    "        \n",
    "        return node\n",
    "        \n",
    "        \n",
    "    def test(self, X):\n",
    "        \n",
    "        ''' Test the trained classifiers on the given set of examples \n",
    "        \n",
    "                   \n",
    "            Input:\n",
    "            ------\n",
    "            X: [m x d] a data matrix of m d-dimensional test examples.\n",
    "           \n",
    "            Returns:\n",
    "            -----------\n",
    "                pclass: the predicted class for each example, i.e. to which it belongs\n",
    "        '''\n",
    "        pclasses=[]\n",
    "        nexamples, nfeatures=X.shape\n",
    "        pass\n",
    "    \n",
    "    def evaluate_numerical_attribute(self,feat, Y):\n",
    "\n",
    "        feat2=np.unique(feat)\n",
    "       \n",
    "        splArr=np.copy(feat2)\n",
    "        for i in range(len(splArr)-1):\n",
    "            splArr[i]=(splArr[i]+splArr[i+1])/2.0\n",
    "\n",
    "\n",
    "        j=0    \n",
    "        labSum=np.zeros(len(np.unique(Y2)))\n",
    "        splData=[labSum]\n",
    "       \n",
    "        for i in range(len(splArr)):\n",
    "            while j<len(feat) and feat[j]<=splArr[i]:\n",
    "                labSum[Y2[j]]+=1\n",
    "               \n",
    "\n",
    "                j+=1\n",
    "            splData=np.append(splData,[labSum],axis=0)\n",
    "\n",
    "\n",
    "        HD=0\n",
    "        BestIG=-1\n",
    "        splInd=0\n",
    "\n",
    "        #Parent Entropy is HD\n",
    "        for i in range(len(labSum)):\n",
    "            if (labSum[i]!=0):\n",
    "                HD+=(labSum[i]/sum(labSum))*math.log((labSum[i]/sum(labSum)),2)\n",
    "        HD*=-1\n",
    "       \n",
    "        for i in range(len(splData)):\n",
    "            #Child Entropies\n",
    "            HDy=0\n",
    "            HDn=0\n",
    "            leftvec=labSum-splData[i]\n",
    "            for j in range(len(splData[i])):\n",
    "                if splData[i][j]!=0:\n",
    "                    #child entropies\n",
    "                    HDy+=(splData[i][j]/sum(splData[i]))*math.log((splData[i][j]/sum(splData[i])),2)\n",
    "\n",
    "                if leftvec[j]!=0:\n",
    "                    HDn+=(leftvec[j]/sum(leftvec))*math.log(leftvec[j]/sum(leftvec),2)\n",
    "            HDy*=-1\n",
    "            HDn*=-1\n",
    "\n",
    "            HS=((sum(splData[i])/sum(labSum))*HDy)+((sum(leftvec)/sum(labSum))*HDn)\n",
    "            IG=HD-HS\n",
    "            if IG>BestIG:\n",
    "                BestIG=IG\n",
    "                splInd=i\n",
    "            \n",
    "        split_point = splArr[splInd]\n",
    "        Max_Gain = BestIG\n",
    "        left_C = feat[feat<split_point]\n",
    "        right_C = feat[feat>=split_point]\n",
    "        Xlidx = np.where([feat<split_point])[1]\n",
    "        Xridx = np.where([feat>=split_point])[1]       \n",
    "\n",
    "        return split_point,Max_Gain,Xlidx,Xridx\n",
    "           \n",
    "    def predict(self, X):\n",
    "        predClasses=[]\n",
    "        \n",
    "        for idx in range(X.shape[0]):\n",
    "            \n",
    "            predClasses.append(self._predict(self.tree,X[idx,:]))\n",
    "        \n",
    "        return predClasses \n",
    "        pass\n",
    "    \n",
    "    def _predict(self,node, X):\n",
    "        if(node.isleaf()==True):\n",
    "            return node.klasslabel\n",
    "        idx = node.fidx\n",
    "        if(X[idx]<node.split):\n",
    "            return self._predict(node.lchild,X)\n",
    "        else:\n",
    "            return self._predict(node.rchild,X)\n",
    "   \n",
    "        raise NotImplementedError()\n",
    "\n",
    "    def __str__(self):\n",
    "        \n",
    "        return self.__print(self.tree)        \n",
    "        \n",
    "     \n",
    "    def find_depth(self):\n",
    "        return self._find_depth(self.tree)\n",
    "    \n",
    "    \n",
    "    def _find_depth(self,node):\n",
    "        if not node:\n",
    "            return\n",
    "        if node.isleaf():\n",
    "            return 1\n",
    "        else:\n",
    "            return max(self._find_depth(node.lchild),self._find_depth(node.rchild))+1\n",
    "    def __print(self,node,depth=0):\n",
    "        \n",
    "        ret = \"\"\n",
    "\n",
    "        # Print right branch\n",
    "        if node.rchild:\n",
    "            ret += self.__print(node.rchild,depth+1)\n",
    "\n",
    "        # Print own value\n",
    "        \n",
    "        ret += \"\\n\" + (\"    \"*depth) + node.get_str()\n",
    "\n",
    "        # Print left branch\n",
    "        if node.lchild:\n",
    "            ret += self.__print(node.lchild,depth+1)\n",
    "        \n",
    "        return ret"
   ]
  },
  {
   "cell_type": "code",
   "execution_count": 5,
   "metadata": {
    "scrolled": true,
    "slideshow": {
     "slide_type": "-"
    }
   },
   "outputs": [],
   "source": [
    "import pandas as pd\n",
    "\n"
   ]
  },
  {
   "cell_type": "markdown",
   "metadata": {},
   "source": [
    "# In the first case here, you are asked to train on all the data using only two features and classes. "
   ]
  },
  {
   "cell_type": "code",
   "execution_count": 6,
   "metadata": {
    "scrolled": true,
    "slideshow": {
     "slide_type": "slide"
    }
   },
   "outputs": [
    {
     "name": "stdout",
     "output_type": "stream",
     "text": [
      "       SepalLength  SepalWidth  PetalLength  PetalWidth\n",
      "count   149.000000  149.000000   149.000000  149.000000\n",
      "mean      5.848322    3.051007     3.774497    1.205369\n",
      "std       0.828594    0.433499     1.759651    0.761292\n",
      "min       4.300000    2.000000     1.000000    0.100000\n",
      "25%       5.100000    2.800000     1.600000    0.300000\n",
      "50%       5.800000    3.000000     4.400000    1.300000\n",
      "75%       6.400000    3.300000     5.100000    1.800000\n",
      "max       7.900000    4.400000     6.900000    2.500000\n"
     ]
    }
   ],
   "source": [
    "#load the data set\n",
    "data=pd.read_csv('./iris.data')\n",
    "data.columns=['SepalLength','SepalWidth','PetalLength','PetalWidth','Class']\n",
    "print data.describe()"
   ]
  },
  {
   "cell_type": "code",
   "execution_count": 7,
   "metadata": {
    "scrolled": true,
    "slideshow": {
     "slide_type": "slide"
    }
   },
   "outputs": [
    {
     "name": "stdout",
     "output_type": "stream",
     "text": [
      " Data Set Dimensions= (149L, 4L)  True Class labels dimensions (149L,)\n",
      "[[4.9 3.  1.4 0.2]\n",
      " [4.7 3.2 1.3 0.2]\n",
      " [4.6 3.1 1.5 0.2]\n",
      " [5.  3.6 1.4 0.2]\n",
      " [5.4 3.9 1.7 0.4]\n",
      " [4.6 3.4 1.4 0.3]\n",
      " [5.  3.4 1.5 0.2]\n",
      " [4.4 2.9 1.4 0.2]\n",
      " [4.9 3.1 1.5 0.1]\n",
      " [5.4 3.7 1.5 0.2]\n",
      " [4.8 3.4 1.6 0.2]\n",
      " [4.8 3.  1.4 0.1]\n",
      " [4.3 3.  1.1 0.1]\n",
      " [5.8 4.  1.2 0.2]\n",
      " [5.7 4.4 1.5 0.4]\n",
      " [5.4 3.9 1.3 0.4]\n",
      " [5.1 3.5 1.4 0.3]\n",
      " [5.7 3.8 1.7 0.3]\n",
      " [5.1 3.8 1.5 0.3]\n",
      " [5.4 3.4 1.7 0.2]\n",
      " [5.1 3.7 1.5 0.4]\n",
      " [4.6 3.6 1.  0.2]\n",
      " [5.1 3.3 1.7 0.5]\n",
      " [4.8 3.4 1.9 0.2]\n",
      " [5.  3.  1.6 0.2]\n",
      " [5.  3.4 1.6 0.4]\n",
      " [5.2 3.5 1.5 0.2]\n",
      " [5.2 3.4 1.4 0.2]\n",
      " [4.7 3.2 1.6 0.2]\n",
      " [4.8 3.1 1.6 0.2]\n",
      " [5.4 3.4 1.5 0.4]\n",
      " [5.2 4.1 1.5 0.1]\n",
      " [5.5 4.2 1.4 0.2]\n",
      " [4.9 3.1 1.5 0.1]\n",
      " [5.  3.2 1.2 0.2]\n",
      " [5.5 3.5 1.3 0.2]\n",
      " [4.9 3.1 1.5 0.1]\n",
      " [4.4 3.  1.3 0.2]\n",
      " [5.1 3.4 1.5 0.2]\n",
      " [5.  3.5 1.3 0.3]\n",
      " [4.5 2.3 1.3 0.3]\n",
      " [4.4 3.2 1.3 0.2]\n",
      " [5.  3.5 1.6 0.6]\n",
      " [5.1 3.8 1.9 0.4]\n",
      " [4.8 3.  1.4 0.3]\n",
      " [5.1 3.8 1.6 0.2]\n",
      " [4.6 3.2 1.4 0.2]\n",
      " [5.3 3.7 1.5 0.2]\n",
      " [5.  3.3 1.4 0.2]\n",
      " [7.  3.2 4.7 1.4]\n",
      " [6.4 3.2 4.5 1.5]\n",
      " [6.9 3.1 4.9 1.5]\n",
      " [5.5 2.3 4.  1.3]\n",
      " [6.5 2.8 4.6 1.5]\n",
      " [5.7 2.8 4.5 1.3]\n",
      " [6.3 3.3 4.7 1.6]\n",
      " [4.9 2.4 3.3 1. ]\n",
      " [6.6 2.9 4.6 1.3]\n",
      " [5.2 2.7 3.9 1.4]\n",
      " [5.  2.  3.5 1. ]\n",
      " [5.9 3.  4.2 1.5]\n",
      " [6.  2.2 4.  1. ]\n",
      " [6.1 2.9 4.7 1.4]\n",
      " [5.6 2.9 3.6 1.3]\n",
      " [6.7 3.1 4.4 1.4]\n",
      " [5.6 3.  4.5 1.5]\n",
      " [5.8 2.7 4.1 1. ]\n",
      " [6.2 2.2 4.5 1.5]\n",
      " [5.6 2.5 3.9 1.1]\n",
      " [5.9 3.2 4.8 1.8]\n",
      " [6.1 2.8 4.  1.3]\n",
      " [6.3 2.5 4.9 1.5]\n",
      " [6.1 2.8 4.7 1.2]\n",
      " [6.4 2.9 4.3 1.3]\n",
      " [6.6 3.  4.4 1.4]\n",
      " [6.8 2.8 4.8 1.4]\n",
      " [6.7 3.  5.  1.7]\n",
      " [6.  2.9 4.5 1.5]\n",
      " [5.7 2.6 3.5 1. ]\n",
      " [5.5 2.4 3.8 1.1]\n",
      " [5.5 2.4 3.7 1. ]\n",
      " [5.8 2.7 3.9 1.2]\n",
      " [6.  2.7 5.1 1.6]\n",
      " [5.4 3.  4.5 1.5]\n",
      " [6.  3.4 4.5 1.6]\n",
      " [6.7 3.1 4.7 1.5]\n",
      " [6.3 2.3 4.4 1.3]\n",
      " [5.6 3.  4.1 1.3]\n",
      " [5.5 2.5 4.  1.3]\n",
      " [5.5 2.6 4.4 1.2]\n",
      " [6.1 3.  4.6 1.4]\n",
      " [5.8 2.6 4.  1.2]\n",
      " [5.  2.3 3.3 1. ]\n",
      " [5.6 2.7 4.2 1.3]\n",
      " [5.7 3.  4.2 1.2]\n",
      " [5.7 2.9 4.2 1.3]\n",
      " [6.2 2.9 4.3 1.3]\n",
      " [5.1 2.5 3.  1.1]\n",
      " [5.7 2.8 4.1 1.3]\n",
      " [6.3 3.3 6.  2.5]\n",
      " [5.8 2.7 5.1 1.9]\n",
      " [7.1 3.  5.9 2.1]\n",
      " [6.3 2.9 5.6 1.8]\n",
      " [6.5 3.  5.8 2.2]\n",
      " [7.6 3.  6.6 2.1]\n",
      " [4.9 2.5 4.5 1.7]\n",
      " [7.3 2.9 6.3 1.8]\n",
      " [6.7 2.5 5.8 1.8]\n",
      " [7.2 3.6 6.1 2.5]\n",
      " [6.5 3.2 5.1 2. ]\n",
      " [6.4 2.7 5.3 1.9]\n",
      " [6.8 3.  5.5 2.1]\n",
      " [5.7 2.5 5.  2. ]\n",
      " [5.8 2.8 5.1 2.4]\n",
      " [6.4 3.2 5.3 2.3]\n",
      " [6.5 3.  5.5 1.8]\n",
      " [7.7 3.8 6.7 2.2]\n",
      " [7.7 2.6 6.9 2.3]\n",
      " [6.  2.2 5.  1.5]\n",
      " [6.9 3.2 5.7 2.3]\n",
      " [5.6 2.8 4.9 2. ]\n",
      " [7.7 2.8 6.7 2. ]\n",
      " [6.3 2.7 4.9 1.8]\n",
      " [6.7 3.3 5.7 2.1]\n",
      " [7.2 3.2 6.  1.8]\n",
      " [6.2 2.8 4.8 1.8]\n",
      " [6.1 3.  4.9 1.8]\n",
      " [6.4 2.8 5.6 2.1]\n",
      " [7.2 3.  5.8 1.6]\n",
      " [7.4 2.8 6.1 1.9]\n",
      " [7.9 3.8 6.4 2. ]\n",
      " [6.4 2.8 5.6 2.2]\n",
      " [6.3 2.8 5.1 1.5]\n",
      " [6.1 2.6 5.6 1.4]\n",
      " [7.7 3.  6.1 2.3]\n",
      " [6.3 3.4 5.6 2.4]\n",
      " [6.4 3.1 5.5 1.8]\n",
      " [6.  3.  4.8 1.8]\n",
      " [6.9 3.1 5.4 2.1]\n",
      " [6.7 3.1 5.6 2.4]\n",
      " [6.9 3.1 5.1 2.3]\n",
      " [5.8 2.7 5.1 1.9]\n",
      " [6.8 3.2 5.9 2.3]\n",
      " [6.7 3.3 5.7 2.5]\n",
      " [6.7 3.  5.2 2.3]\n",
      " [6.3 2.5 5.  1.9]\n",
      " [6.5 3.  5.2 2. ]\n",
      " [6.2 3.4 5.4 2.3]\n",
      " [5.9 3.  5.1 1.8]]\n"
     ]
    }
   ],
   "source": [
    "# Get your data in matrix\n",
    "X=np.asarray(data[['SepalLength','SepalWidth','PetalLength','PetalWidth']].dropna())\n",
    "Y=np.asarray(data['Class'].dropna())\n",
    "print \" Data Set Dimensions=\", X.shape, \" True Class labels dimensions\", Y.shape   \n",
    "print X"
   ]
  },
  {
   "cell_type": "code",
   "execution_count": null,
   "metadata": {
    "scrolled": true
   },
   "outputs": [],
   "source": []
  },
  {
   "cell_type": "code",
   "execution_count": 8,
   "metadata": {
    "scrolled": true
   },
   "outputs": [
    {
     "data": {
      "text/plain": [
       "array(['Iris-setosa', 'Iris-setosa', 'Iris-setosa', 'Iris-setosa',\n",
       "       'Iris-setosa', 'Iris-setosa', 'Iris-setosa', 'Iris-setosa',\n",
       "       'Iris-setosa', 'Iris-setosa', 'Iris-setosa', 'Iris-setosa',\n",
       "       'Iris-setosa', 'Iris-setosa', 'Iris-setosa', 'Iris-setosa',\n",
       "       'Iris-setosa', 'Iris-setosa', 'Iris-setosa', 'Iris-setosa',\n",
       "       'Iris-setosa', 'Iris-setosa', 'Iris-setosa', 'Iris-setosa',\n",
       "       'Iris-setosa', 'Iris-setosa', 'Iris-setosa', 'Iris-setosa',\n",
       "       'Iris-setosa', 'Iris-setosa', 'Iris-setosa', 'Iris-setosa',\n",
       "       'Iris-setosa', 'Iris-setosa', 'Iris-setosa', 'Iris-setosa',\n",
       "       'Iris-setosa', 'Iris-setosa', 'Iris-setosa', 'Iris-setosa',\n",
       "       'Iris-setosa', 'Iris-setosa', 'Iris-setosa', 'Iris-setosa',\n",
       "       'Iris-setosa', 'Iris-setosa', 'Iris-setosa', 'Iris-setosa',\n",
       "       'Iris-setosa', 'Iris-versicolor', 'Iris-versicolor',\n",
       "       'Iris-versicolor', 'Iris-versicolor', 'Iris-versicolor',\n",
       "       'Iris-versicolor', 'Iris-versicolor', 'Iris-versicolor',\n",
       "       'Iris-versicolor', 'Iris-versicolor', 'Iris-versicolor',\n",
       "       'Iris-versicolor', 'Iris-versicolor', 'Iris-versicolor',\n",
       "       'Iris-versicolor', 'Iris-versicolor', 'Iris-versicolor',\n",
       "       'Iris-versicolor', 'Iris-versicolor', 'Iris-versicolor',\n",
       "       'Iris-versicolor', 'Iris-versicolor', 'Iris-versicolor',\n",
       "       'Iris-versicolor', 'Iris-versicolor', 'Iris-versicolor',\n",
       "       'Iris-versicolor', 'Iris-versicolor', 'Iris-versicolor',\n",
       "       'Iris-versicolor', 'Iris-versicolor', 'Iris-versicolor',\n",
       "       'Iris-versicolor', 'Iris-versicolor', 'Iris-versicolor',\n",
       "       'Iris-versicolor', 'Iris-versicolor', 'Iris-versicolor',\n",
       "       'Iris-versicolor', 'Iris-versicolor', 'Iris-versicolor',\n",
       "       'Iris-versicolor', 'Iris-versicolor', 'Iris-versicolor',\n",
       "       'Iris-versicolor', 'Iris-versicolor', 'Iris-versicolor',\n",
       "       'Iris-versicolor', 'Iris-versicolor', 'Iris-versicolor',\n",
       "       'Iris-versicolor', 'Iris-versicolor', 'Iris-versicolor',\n",
       "       'Iris-versicolor', 'Iris-versicolor', 'Iris-versicolor',\n",
       "       'Iris-versicolor', 'Iris-versicolor', 'Iris-versicolor',\n",
       "       'Iris-versicolor', 'Iris-versicolor', 'Iris-versicolor',\n",
       "       'Iris-versicolor', 'Iris-versicolor', 'Iris-versicolor',\n",
       "       'Iris-versicolor', 'Iris-versicolor', 'Iris-versicolor',\n",
       "       'Iris-versicolor', 'Iris-versicolor', 'Iris-versicolor',\n",
       "       'Iris-versicolor', 'Iris-versicolor', 'Iris-versicolor',\n",
       "       'Iris-versicolor', 'Iris-versicolor', 'Iris-versicolor',\n",
       "       'Iris-versicolor', 'Iris-versicolor', 'Iris-versicolor',\n",
       "       'Iris-versicolor', 'Iris-versicolor', 'Iris-versicolor',\n",
       "       'Iris-versicolor', 'Iris-versicolor', 'Iris-versicolor',\n",
       "       'Iris-versicolor', 'Iris-versicolor', 'Iris-versicolor',\n",
       "       'Iris-versicolor', 'Iris-versicolor', 'Iris-versicolor',\n",
       "       'Iris-versicolor', 'Iris-versicolor', 'Iris-versicolor',\n",
       "       'Iris-versicolor', 'Iris-versicolor', 'Iris-versicolor',\n",
       "       'Iris-versicolor', 'Iris-versicolor'], dtype=object)"
      ]
     },
     "execution_count": 8,
     "metadata": {},
     "output_type": "execute_result"
    }
   ],
   "source": [
    "# here data is being set so that there are only two classes\n",
    "Y[Y=='Iris-virginica']='Iris-versicolor'\n",
    "Y"
   ]
  },
  {
   "cell_type": "markdown",
   "metadata": {},
   "source": [
    "# Main Cell"
   ]
  },
  {
   "cell_type": "code",
   "execution_count": 9,
   "metadata": {
    "scrolled": true
   },
   "outputs": [
    {
     "name": "stdout",
     "output_type": "stream",
     "text": [
      " Data Set Dimensions= (149L, 4L)  True Class labels dimensions (149L,)\n",
      "\n",
      "        C(class=1,Purity=1.0)\n",
      "    I(Fidx=2,Score=0.00285595262278,Split=6.0)\n",
      "            C(class=1,Purity=1.0)\n",
      "        I(Fidx=3,Score=0.00297136292615,Split=1.95)\n",
      "            C(class=1,Purity=0.746031746032)\n",
      "I(Fidx=0,Score=0.00572501799574,Split=5.05)\n",
      "        C(class=0,Purity=0.75)\n",
      "    I(Fidx=0,Score=0.121071655239,Split=5.0)\n",
      "            C(class=0,Purity=0.923076923077)\n",
      "        I(Fidx=0,Score=0.047709111428,Split=4.35)\n",
      "            C(class=0,Purity=1.0)\n",
      "Predicted Classes:  [1, 0, 1, 1, 0, 0, 1, 0, 1, 1, 1, 1, 1, 1, 1, 1, 1, 1, 0, 0, 0, 0, 1, 1, 1, 0, 0, 1, 1, 1, 1, 1, 1, 1, 1, 0, 1, 0, 1, 1, 1, 1, 0, 1, 1, 1, 1, 1, 1, 0]\n",
      "Actual Classes:  [1 0 1 1 0 0 1 0 1 1 1 1 0 1 1 1 1 1 1 0 0 0 1 0 1 0 0 1 1 1 1 1 0 1 1 0 1\n",
      " 0 0 0 1 1 1 1 1 1 1 1 1 0]\n",
      "43\n",
      "Accuracy =  0.86\n"
     ]
    }
   ],
   "source": [
    "# Get your data in matrix\n",
    "X=np.asarray(data[['SepalLength','SepalWidth','PetalLength','PetalWidth']].dropna())\n",
    "Y=np.asarray(data['Class'].dropna())\n",
    "print \" Data Set Dimensions=\", X.shape, \" True Class labels dimensions\", Y.shape   \n",
    "\n",
    "Y[Y=='Iris-virginica']='Iris-versicolor'\n",
    "#Shuffling\n",
    "for i in range(len(X)):\n",
    "    \n",
    "    temp=np.copy(X[i])\n",
    "    temp2=np.copy(Y[i])\n",
    "    ind=randint(i,len(X)-1)\n",
    "    X[i]=X[ind]\n",
    "    Y[i]=Y[ind]\n",
    "    X[ind]=temp\n",
    "    Y[ind]=temp2\n",
    "\n",
    "\n",
    "feat=[0,1] # because we are only using two features in the beginning\n",
    "dt=DecisionTree(0.95,5,2)\n",
    "feat=[0,1]\n",
    "dt.classes=np.unique(Y)\n",
    "dt.nclasses=len(np.unique(Y))\n",
    "len(np.unique(Y))\n",
    "Y2=np.copy(Y)\n",
    "Y2[Y2=='Iris-setosa']=0\n",
    "Y2[Y2=='Iris-versicolor']=1\n",
    "X2=np.copy(X)\n",
    "\n",
    "trainX=X2[50:]\n",
    "testX=X2[:50]\n",
    "trainY=Y2[50:]\n",
    "testY=Y2[:50]\n",
    "dt.train(trainX,trainY)\n",
    "print dt\n",
    "pclasses=dt.predict(testX)\n",
    "print \"Predicted Classes: \",pclasses\n",
    "print \"Actual Classes: \",testY\n",
    "print np.sum(pclasses==testY)\n",
    "print \"Accuracy = \", np.sum(pclasses==testY)/float(testY.shape[0])\n",
    "#split,mingain,Xlidx,Xridx=dt.evaluate_numerical_attribute(X2[:,0],Y2)"
   ]
  },
  {
   "cell_type": "markdown",
   "metadata": {},
   "source": [
    "# Testing Entropy and Information Gain"
   ]
  },
  {
   "cell_type": "code",
   "execution_count": 10,
   "metadata": {},
   "outputs": [
    {
     "name": "stdout",
     "output_type": "stream",
     "text": [
      "[0 0 0 0 0 0 0 0 0 0 0 0 0 0 0 0 1 0 0 1 0 0 1 0 0 0 0 0 0 0 1 0 0 0 0 0 0\n",
      " 0 1 0 0 1 0 0 0 1 0 0 0 0 0 1 0 1 1 1 1 0 1 1 1 1 1 1 1 1 1 0 1 1 1 0 1 1\n",
      " 1 1 1 1 0 1 1 1 1 1 1 1 1 1 1 1 1 1 1 1 1 1 1 1 1 1 1 1 1 1 1 1 1 1 1 1 1\n",
      " 1 1 1 1 1 1 1 1 1 1 1 1 1 1 1 1 1 1 1 1 1 1 1 1 1 1 1 1 1 1 1 1 1 1 1 1 1\n",
      " 1]\n",
      "Split Point 5.55\n",
      "Max Gain 0.5250492391129916\n",
      "Xlidx [ 0  1  2  3  4  5  6  7  8  9 10 11 12 13 14 15 16 17 18 19 20 21 22 23\n",
      " 24 25 26 27 28 29 30 31 32 33 34 35 36 37 38 39 40 41 42 43 44 45 46 47\n",
      " 48 49 50 51 52 53 54 55 56 57]\n",
      "[0 0 0 0 0 0 0 0 0 0 0 0 0 0 0 0 1 0 0 1 0 0 1 0 0 0 0 0 0 0 1 0 0 0 0 0 0\n",
      " 0 1 0 0 1 0 0 0 1 0 0 0 0 0 1 0 1 1 1 1 0]\n",
      "[ 0  1  2  3  4  5  6  7  8  9 10 11 12 13 14 15 16 17 18 19 20 21 22 23\n",
      " 24 25 26 27 28 29 30 31 32 33 34 35 36 37 38 39 40 41 42 43 44 45 46 47\n",
      " 48 49 50 51 52 53 54 55 56 57]\n",
      "Xridx [ 58  59  60  61  62  63  64  65  66  67  68  69  70  71  72  73  74  75\n",
      "  76  77  78  79  80  81  82  83  84  85  86  87  88  89  90  91  92  93\n",
      "  94  95  96  97  98  99 100 101 102 103 104 105 106 107 108 109 110 111\n",
      " 112 113 114 115 116 117 118 119 120 121 122 123 124 125 126 127 128 129\n",
      " 130 131 132 133 134 135 136 137 138 139 140 141 142 143 144 145 146 147\n",
      " 148]\n",
      "Split Point 51\n",
      "Max Gain 0.12397305144921245\n",
      "Xlidx [ 0  1  2  3  4  5  6  7  8  9 10 11 12 13 14 15 16 17 18 19 20 21 22 23\n",
      " 24 25 26 27 28 29 30 31 32 33 34 35 36 37 38 39 40 41 42 43 44 45 46 47\n",
      " 48 49 50]\n",
      "[0 0 0 0 0 0 0 0 0 0 0 0 0 0 0 0 1 0 0 1 0 0 1 0 0 0 0 0 0 0 1 0 0 0 0 0 0\n",
      " 0 1 0 0 1 0 0 0 1 0 0 0 0 0]\n",
      "[ 0  1  2  3  4  5  6  7  8  9 10 11 12 13 14 15 16 17 18 19 20 21 22 23\n",
      " 24 25 26 27 28 29 30 31 32 33 34 35 36 37 38 39 40 41 42 43 44 45 46 47\n",
      " 48 49 50]\n",
      "Xridx [51 52 53 54 55 56 57]\n",
      "Split Point 16\n",
      "Max Gain 0.08156340088322134\n",
      "Xlidx [ 0  1  2  3  4  5  6  7  8  9 10 11 12 13 14 15]\n",
      "[0 0 0 0 0 0 0 0 0 0 0 0 0 0 0 0]\n",
      "[ 0  1  2  3  4  5  6  7  8  9 10 11 12 13 14 15]\n",
      "Xridx [16 17 18 19 20 21 22 23 24 25 26 27 28 29 30 31 32 33 34 35 36 37 38 39\n",
      " 40 41 42 43 44 45 46 47 48 49 50]\n",
      "Split Point 0\n",
      "Max Gain 0.0\n",
      "Xlidx []\n",
      "[]\n",
      "[]\n",
      "Xridx [ 0  1  2  3  4  5  6  7  8  9 10 11 12 13 14 15]\n"
     ]
    }
   ],
   "source": [
    "ind=X2[:,0].argsort()\n",
    "Y2=Y2[ind]\n",
    "X2=X2[ind]\n",
    "\n",
    "feat=X2[:,0]\n",
    "MxGn=1000\n",
    "print Y2\n",
    "while (MxGn>0):\n",
    "    split,maxgain,Xlidx,Xridx = dt.evaluate_numerical_attribute(feat,Y2)\n",
    "    print \"Split Point\",split\n",
    "    print \"Max Gain\",maxgain\n",
    "    print \"Xlidx\",Xlidx\n",
    "    \n",
    "    feat=Xlidx\n",
    "    Y2=Y2[:len(feat)]\n",
    "    print Y2\n",
    "    print feat\n",
    "    MxGn=maxgain\n",
    "    print \"Xridx\",Xridx\n"
   ]
  },
  {
   "cell_type": "markdown",
   "metadata": {},
   "source": [
    "# Rough"
   ]
  },
  {
   "cell_type": "code",
   "execution_count": 11,
   "metadata": {},
   "outputs": [
    {
     "data": {
      "text/plain": [
       "(array([[4.6, 3.2, 1.4, 0.2],\n",
       "        [5.4, 3.7, 1.5, 0.2],\n",
       "        [7.2, 3.2, 6. , 1.8],\n",
       "        [4.4, 3. , 1.3, 0.2],\n",
       "        [5.4, 3.4, 1.5, 0.4],\n",
       "        [6.1, 3. , 4.9, 1.8],\n",
       "        [6.3, 3.3, 4.7, 1.6],\n",
       "        [5.4, 3. , 4.5, 1.5],\n",
       "        [6. , 2.2, 5. , 1.5],\n",
       "        [6.7, 3.1, 4.4, 1.4],\n",
       "        [5.1, 2.5, 3. , 1.1],\n",
       "        [6.4, 3.2, 5.3, 2.3],\n",
       "        [4.6, 3.6, 1. , 0.2],\n",
       "        [6.2, 2.9, 4.3, 1.3],\n",
       "        [6.4, 2.7, 5.3, 1.9],\n",
       "        [5.7, 2.5, 5. , 2. ],\n",
       "        [5. , 2.3, 3.3, 1. ],\n",
       "        [5.4, 3.4, 1.7, 0.2],\n",
       "        [6.3, 2.9, 5.6, 1.8],\n",
       "        [5.9, 3. , 5.1, 1.8],\n",
       "        [6.5, 3. , 5.2, 2. ],\n",
       "        [5. , 3. , 1.6, 0.2],\n",
       "        [6.3, 2.8, 5.1, 1.5],\n",
       "        [5.8, 4. , 1.2, 0.2],\n",
       "        [6.7, 3.3, 5.7, 2.1],\n",
       "        [6.8, 3. , 5.5, 2.1],\n",
       "        [6.9, 3.1, 5.4, 2.1],\n",
       "        [6.3, 3.3, 6. , 2.5],\n",
       "        [4.9, 2.5, 4.5, 1.7],\n",
       "        [5.8, 2.7, 5.1, 1.9],\n",
       "        [6.7, 2.5, 5.8, 1.8],\n",
       "        [6.1, 2.8, 4. , 1.3],\n",
       "        [6.3, 2.7, 4.9, 1.8],\n",
       "        [4.9, 3.1, 1.5, 0.1],\n",
       "        [6.9, 3.1, 5.1, 2.3],\n",
       "        [5.1, 3.8, 1.9, 0.4],\n",
       "        [6.7, 3.1, 4.7, 1.5],\n",
       "        [6.2, 2.8, 4.8, 1.8],\n",
       "        [5. , 3.2, 1.2, 0.2],\n",
       "        [6.2, 3.4, 5.4, 2.3],\n",
       "        [6.9, 3.2, 5.7, 2.3],\n",
       "        [4.4, 3.2, 1.3, 0.2],\n",
       "        [5.6, 3. , 4.5, 1.5],\n",
       "        [6.7, 3.3, 5.7, 2.5],\n",
       "        [5.8, 2.7, 3.9, 1.2],\n",
       "        [4.8, 3. , 1.4, 0.1],\n",
       "        [7.9, 3.8, 6.4, 2. ],\n",
       "        [6. , 3.4, 4.5, 1.6],\n",
       "        [5.5, 2.4, 3.8, 1.1],\n",
       "        [5.9, 3. , 4.2, 1.5],\n",
       "        [6.8, 3.2, 5.9, 2.3],\n",
       "        [6. , 2.2, 4. , 1. ],\n",
       "        [5.1, 3.8, 1.5, 0.3],\n",
       "        [4.8, 3.4, 1.9, 0.2],\n",
       "        [5.2, 3.5, 1.5, 0.2],\n",
       "        [7.6, 3. , 6.6, 2.1],\n",
       "        [4.9, 3.1, 1.5, 0.1],\n",
       "        [5.4, 3.9, 1.7, 0.4],\n",
       "        [7.2, 3. , 5.8, 1.6],\n",
       "        [5.5, 4.2, 1.4, 0.2],\n",
       "        [5.5, 3.5, 1.3, 0.2],\n",
       "        [5.8, 2.6, 4. , 1.2],\n",
       "        [5.5, 2.6, 4.4, 1.2],\n",
       "        [5.8, 2.8, 5.1, 2.4],\n",
       "        [6.4, 3.2, 4.5, 1.5],\n",
       "        [4.3, 3. , 1.1, 0.1],\n",
       "        [5.3, 3.7, 1.5, 0.2],\n",
       "        [6.8, 2.8, 4.8, 1.4],\n",
       "        [6.6, 2.9, 4.6, 1.3],\n",
       "        [5.2, 3.4, 1.4, 0.2],\n",
       "        [5.7, 2.8, 4.5, 1.3],\n",
       "        [5.2, 2.7, 3.9, 1.4],\n",
       "        [6.5, 3.2, 5.1, 2. ],\n",
       "        [6.3, 2.5, 4.9, 1.5],\n",
       "        [5.1, 3.7, 1.5, 0.4],\n",
       "        [5.7, 4.4, 1.5, 0.4],\n",
       "        [5.9, 3.2, 4.8, 1.8],\n",
       "        [5. , 2. , 3.5, 1. ],\n",
       "        [6.1, 2.8, 4.7, 1.2],\n",
       "        [6. , 2.9, 4.5, 1.5],\n",
       "        [6.4, 2.8, 5.6, 2.1],\n",
       "        [5. , 3.5, 1.6, 0.6],\n",
       "        [5.5, 2.3, 4. , 1.3],\n",
       "        [5.6, 2.9, 3.6, 1.3],\n",
       "        [6.5, 3. , 5.5, 1.8],\n",
       "        [5.7, 3.8, 1.7, 0.3],\n",
       "        [6.2, 2.2, 4.5, 1.5],\n",
       "        [6.1, 3. , 4.6, 1.4],\n",
       "        [4.9, 3. , 1.4, 0.2],\n",
       "        [5.8, 2.7, 5.1, 1.9],\n",
       "        [5.5, 2.5, 4. , 1.3],\n",
       "        [6.5, 2.8, 4.6, 1.5],\n",
       "        [6.7, 3. , 5.2, 2.3],\n",
       "        [6.3, 3.4, 5.6, 2.4],\n",
       "        [5.2, 4.1, 1.5, 0.1],\n",
       "        [5.4, 3.9, 1.3, 0.4],\n",
       "        [4.9, 2.4, 3.3, 1. ],\n",
       "        [5.7, 2.6, 3.5, 1. ],\n",
       "        [7.7, 2.8, 6.7, 2. ],\n",
       "        [5.1, 3.4, 1.5, 0.2],\n",
       "        [4.8, 3. , 1.4, 0.3],\n",
       "        [6.3, 2.3, 4.4, 1.3],\n",
       "        [7.1, 3. , 5.9, 2.1],\n",
       "        [5.7, 3. , 4.2, 1.2],\n",
       "        [6.5, 3. , 5.8, 2.2],\n",
       "        [5.7, 2.9, 4.2, 1.3],\n",
       "        [6.4, 2.8, 5.6, 2.2],\n",
       "        [5.6, 2.8, 4.9, 2. ],\n",
       "        [4.6, 3.1, 1.5, 0.2],\n",
       "        [5.7, 2.8, 4.1, 1.3],\n",
       "        [7.2, 3.6, 6.1, 2.5],\n",
       "        [6.4, 3.1, 5.5, 1.8],\n",
       "        [6. , 2.7, 5.1, 1.6],\n",
       "        [5. , 3.5, 1.3, 0.3],\n",
       "        [5.1, 3.5, 1.4, 0.3],\n",
       "        [6.1, 2.9, 4.7, 1.4],\n",
       "        [4.8, 3.4, 1.6, 0.2],\n",
       "        [5. , 3.6, 1.4, 0.2],\n",
       "        [7. , 3.2, 4.7, 1.4],\n",
       "        [6.7, 3. , 5. , 1.7],\n",
       "        [5.1, 3.3, 1.7, 0.5],\n",
       "        [5. , 3.3, 1.4, 0.2],\n",
       "        [7.7, 2.6, 6.9, 2.3],\n",
       "        [7.7, 3.8, 6.7, 2.2],\n",
       "        [5.6, 3. , 4.1, 1.3],\n",
       "        [5.6, 2.7, 4.2, 1.3],\n",
       "        [4.8, 3.1, 1.6, 0.2],\n",
       "        [7.4, 2.8, 6.1, 1.9],\n",
       "        [4.7, 3.2, 1.6, 0.2],\n",
       "        [6.7, 3.1, 5.6, 2.4],\n",
       "        [4.4, 2.9, 1.4, 0.2],\n",
       "        [5.1, 3.8, 1.6, 0.2],\n",
       "        [6.3, 2.5, 5. , 1.9],\n",
       "        [5.5, 2.4, 3.7, 1. ],\n",
       "        [5.6, 2.5, 3.9, 1.1],\n",
       "        [4.7, 3.2, 1.3, 0.2],\n",
       "        [6.1, 2.6, 5.6, 1.4],\n",
       "        [4.5, 2.3, 1.3, 0.3],\n",
       "        [6.4, 2.9, 4.3, 1.3],\n",
       "        [5.8, 2.7, 4.1, 1. ],\n",
       "        [4.9, 3.1, 1.5, 0.1],\n",
       "        [6.9, 3.1, 4.9, 1.5],\n",
       "        [6.6, 3. , 4.4, 1.4],\n",
       "        [7.3, 2.9, 6.3, 1.8],\n",
       "        [5. , 3.4, 1.6, 0.4],\n",
       "        [4.6, 3.4, 1.4, 0.3],\n",
       "        [7.7, 3. , 6.1, 2.3],\n",
       "        [5. , 3.4, 1.5, 0.2],\n",
       "        [6. , 3. , 4.8, 1.8]]), array([array('Iris-setosa', dtype='|S11'),\n",
       "        array('Iris-setosa', dtype='|S11'), 'Iris-versicolor',\n",
       "        'Iris-setosa', array('Iris-setosa', dtype='|S11'),\n",
       "        'Iris-versicolor', array('Iris-versicolor', dtype='|S15'),\n",
       "        'Iris-versicolor', 'Iris-versicolor',\n",
       "        array('Iris-versicolor', dtype='|S15'), 'Iris-versicolor',\n",
       "        'Iris-versicolor', array('Iris-setosa', dtype='|S11'),\n",
       "        'Iris-versicolor', 'Iris-versicolor', 'Iris-versicolor',\n",
       "        'Iris-versicolor', array('Iris-setosa', dtype='|S11'),\n",
       "        array('Iris-versicolor', dtype='|S15'), 'Iris-versicolor',\n",
       "        array('Iris-versicolor', dtype='|S15'),\n",
       "        array('Iris-setosa', dtype='|S11'),\n",
       "        array('Iris-versicolor', dtype='|S15'),\n",
       "        array('Iris-setosa', dtype='|S11'), 'Iris-versicolor',\n",
       "        array('Iris-versicolor', dtype='|S15'), 'Iris-versicolor',\n",
       "        'Iris-versicolor', array('Iris-versicolor', dtype='|S15'),\n",
       "        'Iris-versicolor', 'Iris-versicolor',\n",
       "        array('Iris-versicolor', dtype='|S15'),\n",
       "        array('Iris-versicolor', dtype='|S15'),\n",
       "        array('Iris-setosa', dtype='|S11'), 'Iris-versicolor',\n",
       "        array('Iris-setosa', dtype='|S11'),\n",
       "        array('Iris-versicolor', dtype='|S15'), 'Iris-versicolor',\n",
       "        array('Iris-setosa', dtype='|S11'), 'Iris-versicolor',\n",
       "        'Iris-versicolor', array('Iris-setosa', dtype='|S11'),\n",
       "        'Iris-versicolor', array('Iris-versicolor', dtype='|S15'),\n",
       "        array('Iris-versicolor', dtype='|S15'),\n",
       "        array('Iris-setosa', dtype='|S11'), 'Iris-versicolor',\n",
       "        array('Iris-versicolor', dtype='|S15'), 'Iris-versicolor',\n",
       "        'Iris-versicolor', array('Iris-versicolor', dtype='|S15'),\n",
       "        array('Iris-versicolor', dtype='|S15'),\n",
       "        array('Iris-setosa', dtype='|S11'),\n",
       "        array('Iris-setosa', dtype='|S11'),\n",
       "        array('Iris-setosa', dtype='|S11'),\n",
       "        array('Iris-versicolor', dtype='|S15'),\n",
       "        array('Iris-setosa', dtype='|S11'),\n",
       "        array('Iris-setosa', dtype='|S11'),\n",
       "        array('Iris-versicolor', dtype='|S15'),\n",
       "        array('Iris-setosa', dtype='|S11'),\n",
       "        array('Iris-setosa', dtype='|S11'),\n",
       "        array('Iris-versicolor', dtype='|S15'),\n",
       "        array('Iris-versicolor', dtype='|S15'),\n",
       "        array('Iris-versicolor', dtype='|S15'),\n",
       "        array('Iris-versicolor', dtype='|S15'),\n",
       "        array('Iris-setosa', dtype='|S11'),\n",
       "        array('Iris-setosa', dtype='|S11'),\n",
       "        array('Iris-versicolor', dtype='|S15'),\n",
       "        array('Iris-versicolor', dtype='|S15'),\n",
       "        array('Iris-setosa', dtype='|S11'),\n",
       "        array('Iris-versicolor', dtype='|S15'),\n",
       "        array('Iris-versicolor', dtype='|S15'),\n",
       "        array('Iris-versicolor', dtype='|S15'),\n",
       "        array('Iris-versicolor', dtype='|S15'),\n",
       "        array('Iris-setosa', dtype='|S11'),\n",
       "        array('Iris-setosa', dtype='|S11'),\n",
       "        array('Iris-versicolor', dtype='|S15'),\n",
       "        array('Iris-versicolor', dtype='|S15'),\n",
       "        array('Iris-versicolor', dtype='|S15'),\n",
       "        array('Iris-versicolor', dtype='|S15'),\n",
       "        array('Iris-versicolor', dtype='|S15'),\n",
       "        array('Iris-setosa', dtype='|S11'),\n",
       "        array('Iris-versicolor', dtype='|S15'),\n",
       "        array('Iris-versicolor', dtype='|S15'), 'Iris-versicolor',\n",
       "        array('Iris-setosa', dtype='|S11'),\n",
       "        array('Iris-versicolor', dtype='|S15'),\n",
       "        array('Iris-versicolor', dtype='|S15'),\n",
       "        array('Iris-setosa', dtype='|S11'), 'Iris-versicolor',\n",
       "        array('Iris-versicolor', dtype='|S15'),\n",
       "        array('Iris-versicolor', dtype='|S15'),\n",
       "        array('Iris-versicolor', dtype='|S15'),\n",
       "        array('Iris-versicolor', dtype='|S15'),\n",
       "        array('Iris-setosa', dtype='|S11'),\n",
       "        array('Iris-setosa', dtype='|S11'),\n",
       "        array('Iris-versicolor', dtype='|S15'),\n",
       "        array('Iris-versicolor', dtype='|S15'),\n",
       "        array('Iris-versicolor', dtype='|S15'),\n",
       "        array('Iris-setosa', dtype='|S11'),\n",
       "        array('Iris-setosa', dtype='|S11'),\n",
       "        array('Iris-versicolor', dtype='|S15'),\n",
       "        array('Iris-versicolor', dtype='|S15'),\n",
       "        array('Iris-versicolor', dtype='|S15'),\n",
       "        array('Iris-versicolor', dtype='|S15'),\n",
       "        array('Iris-versicolor', dtype='|S15'),\n",
       "        array('Iris-versicolor', dtype='|S15'),\n",
       "        array('Iris-versicolor', dtype='|S15'),\n",
       "        array('Iris-setosa', dtype='|S11'),\n",
       "        array('Iris-versicolor', dtype='|S15'),\n",
       "        array('Iris-versicolor', dtype='|S15'),\n",
       "        array('Iris-versicolor', dtype='|S15'),\n",
       "        array('Iris-versicolor', dtype='|S15'),\n",
       "        array('Iris-setosa', dtype='|S11'),\n",
       "        array('Iris-setosa', dtype='|S11'),\n",
       "        array('Iris-versicolor', dtype='|S15'),\n",
       "        array('Iris-setosa', dtype='|S11'),\n",
       "        array('Iris-setosa', dtype='|S11'),\n",
       "        array('Iris-versicolor', dtype='|S15'),\n",
       "        array('Iris-versicolor', dtype='|S15'),\n",
       "        array('Iris-setosa', dtype='|S11'),\n",
       "        array('Iris-setosa', dtype='|S11'),\n",
       "        array('Iris-versicolor', dtype='|S15'),\n",
       "        array('Iris-versicolor', dtype='|S15'),\n",
       "        array('Iris-versicolor', dtype='|S15'),\n",
       "        array('Iris-versicolor', dtype='|S15'),\n",
       "        array('Iris-setosa', dtype='|S11'),\n",
       "        array('Iris-versicolor', dtype='|S15'),\n",
       "        array('Iris-setosa', dtype='|S11'),\n",
       "        array('Iris-versicolor', dtype='|S15'),\n",
       "        array('Iris-setosa', dtype='|S11'),\n",
       "        array('Iris-setosa', dtype='|S11'),\n",
       "        array('Iris-versicolor', dtype='|S15'),\n",
       "        array('Iris-versicolor', dtype='|S15'),\n",
       "        array('Iris-versicolor', dtype='|S15'),\n",
       "        array('Iris-setosa', dtype='|S11'),\n",
       "        array('Iris-versicolor', dtype='|S15'),\n",
       "        array('Iris-setosa', dtype='|S11'),\n",
       "        array('Iris-versicolor', dtype='|S15'),\n",
       "        array('Iris-versicolor', dtype='|S15'),\n",
       "        array('Iris-setosa', dtype='|S11'),\n",
       "        array('Iris-versicolor', dtype='|S15'),\n",
       "        array('Iris-versicolor', dtype='|S15'),\n",
       "        array('Iris-versicolor', dtype='|S15'),\n",
       "        array('Iris-setosa', dtype='|S11'),\n",
       "        array('Iris-setosa', dtype='|S11'),\n",
       "        array('Iris-versicolor', dtype='|S15'),\n",
       "        array('Iris-setosa', dtype='|S11'),\n",
       "        array('Iris-versicolor', dtype='|S15')], dtype=object))"
      ]
     },
     "execution_count": 11,
     "metadata": {},
     "output_type": "execute_result"
    }
   ],
   "source": [
    "dt.classes=np.unique(Y)\n",
    "dt.nclasses=len(np.unique(Y))\n",
    "for i in range(len(X)):\n",
    "    \n",
    "    temp=np.copy(X[i])\n",
    "    temp2=np.copy(Y[i])\n",
    "    ind=randint(i,len(X)-1)\n",
    "    X[i]=X[ind]\n",
    "    Y[i]=Y[ind]\n",
    "    X[ind]=temp\n",
    "    Y[ind]=temp2\n",
    "\n",
    "X,Y\n",
    "#split,mingain,Xlidx,Xridx=dt.evaluate_numerical_attribute(X[:,0],Y)"
   ]
  },
  {
   "cell_type": "code",
   "execution_count": 12,
   "metadata": {
    "deletable": false,
    "nbgrader": {
     "checksum": "d3e8e586dd07a46aa77945942d370783",
     "grade": true,
     "grade_id": "split_gain",
     "locked": true,
     "points": 5,
     "solution": false
    }
   },
   "outputs": [
    {
     "ename": "AssertionError",
     "evalue": "0 != 5.45",
     "output_type": "error",
     "traceback": [
      "\u001b[1;31m---------------------------------------------------------------------------\u001b[0m",
      "\u001b[1;31mAssertionError\u001b[0m                            Traceback (most recent call last)",
      "\u001b[1;32m<ipython-input-12-c62121dad476>\u001b[0m in \u001b[0;36m<module>\u001b[1;34m()\u001b[0m\n\u001b[0;32m      1\u001b[0m \u001b[1;32mfrom\u001b[0m \u001b[0mnose\u001b[0m\u001b[1;33m.\u001b[0m\u001b[0mtools\u001b[0m \u001b[1;32mimport\u001b[0m \u001b[0massert_almost_equal\u001b[0m\u001b[1;33m,\u001b[0m \u001b[0massert_equal\u001b[0m\u001b[1;33m\u001b[0m\u001b[0m\n\u001b[0;32m      2\u001b[0m \u001b[1;33m\u001b[0m\u001b[0m\n\u001b[1;32m----> 3\u001b[1;33m \u001b[0massert_equal\u001b[0m\u001b[1;33m(\u001b[0m\u001b[0msplit\u001b[0m\u001b[1;33m,\u001b[0m \u001b[1;36m5.45\u001b[0m\u001b[1;33m)\u001b[0m\u001b[1;33m\u001b[0m\u001b[0m\n\u001b[0m\u001b[0;32m      4\u001b[0m \u001b[0massert_almost_equal\u001b[0m\u001b[1;33m(\u001b[0m\u001b[0mmingain\u001b[0m\u001b[1;33m,\u001b[0m \u001b[1;36m0.38\u001b[0m\u001b[1;33m,\u001b[0m \u001b[0mplaces\u001b[0m\u001b[1;33m=\u001b[0m\u001b[1;36m1\u001b[0m\u001b[1;33m)\u001b[0m\u001b[1;33m\u001b[0m\u001b[0m\n",
      "\u001b[1;32mC:\\Users\\osama\\Anaconda2\\lib\\unittest\\case.pyc\u001b[0m in \u001b[0;36massertEqual\u001b[1;34m(self, first, second, msg)\u001b[0m\n\u001b[0;32m    511\u001b[0m         \"\"\"\n\u001b[0;32m    512\u001b[0m         \u001b[0massertion_func\u001b[0m \u001b[1;33m=\u001b[0m \u001b[0mself\u001b[0m\u001b[1;33m.\u001b[0m\u001b[0m_getAssertEqualityFunc\u001b[0m\u001b[1;33m(\u001b[0m\u001b[0mfirst\u001b[0m\u001b[1;33m,\u001b[0m \u001b[0msecond\u001b[0m\u001b[1;33m)\u001b[0m\u001b[1;33m\u001b[0m\u001b[0m\n\u001b[1;32m--> 513\u001b[1;33m         \u001b[0massertion_func\u001b[0m\u001b[1;33m(\u001b[0m\u001b[0mfirst\u001b[0m\u001b[1;33m,\u001b[0m \u001b[0msecond\u001b[0m\u001b[1;33m,\u001b[0m \u001b[0mmsg\u001b[0m\u001b[1;33m=\u001b[0m\u001b[0mmsg\u001b[0m\u001b[1;33m)\u001b[0m\u001b[1;33m\u001b[0m\u001b[0m\n\u001b[0m\u001b[0;32m    514\u001b[0m \u001b[1;33m\u001b[0m\u001b[0m\n\u001b[0;32m    515\u001b[0m     \u001b[1;32mdef\u001b[0m \u001b[0massertNotEqual\u001b[0m\u001b[1;33m(\u001b[0m\u001b[0mself\u001b[0m\u001b[1;33m,\u001b[0m \u001b[0mfirst\u001b[0m\u001b[1;33m,\u001b[0m \u001b[0msecond\u001b[0m\u001b[1;33m,\u001b[0m \u001b[0mmsg\u001b[0m\u001b[1;33m=\u001b[0m\u001b[0mNone\u001b[0m\u001b[1;33m)\u001b[0m\u001b[1;33m:\u001b[0m\u001b[1;33m\u001b[0m\u001b[0m\n",
      "\u001b[1;32mC:\\Users\\osama\\Anaconda2\\lib\\unittest\\case.pyc\u001b[0m in \u001b[0;36m_baseAssertEqual\u001b[1;34m(self, first, second, msg)\u001b[0m\n\u001b[0;32m    504\u001b[0m             \u001b[0mstandardMsg\u001b[0m \u001b[1;33m=\u001b[0m \u001b[1;34m'%s != %s'\u001b[0m \u001b[1;33m%\u001b[0m \u001b[1;33m(\u001b[0m\u001b[0msafe_repr\u001b[0m\u001b[1;33m(\u001b[0m\u001b[0mfirst\u001b[0m\u001b[1;33m)\u001b[0m\u001b[1;33m,\u001b[0m \u001b[0msafe_repr\u001b[0m\u001b[1;33m(\u001b[0m\u001b[0msecond\u001b[0m\u001b[1;33m)\u001b[0m\u001b[1;33m)\u001b[0m\u001b[1;33m\u001b[0m\u001b[0m\n\u001b[0;32m    505\u001b[0m             \u001b[0mmsg\u001b[0m \u001b[1;33m=\u001b[0m \u001b[0mself\u001b[0m\u001b[1;33m.\u001b[0m\u001b[0m_formatMessage\u001b[0m\u001b[1;33m(\u001b[0m\u001b[0mmsg\u001b[0m\u001b[1;33m,\u001b[0m \u001b[0mstandardMsg\u001b[0m\u001b[1;33m)\u001b[0m\u001b[1;33m\u001b[0m\u001b[0m\n\u001b[1;32m--> 506\u001b[1;33m             \u001b[1;32mraise\u001b[0m \u001b[0mself\u001b[0m\u001b[1;33m.\u001b[0m\u001b[0mfailureException\u001b[0m\u001b[1;33m(\u001b[0m\u001b[0mmsg\u001b[0m\u001b[1;33m)\u001b[0m\u001b[1;33m\u001b[0m\u001b[0m\n\u001b[0m\u001b[0;32m    507\u001b[0m \u001b[1;33m\u001b[0m\u001b[0m\n\u001b[0;32m    508\u001b[0m     \u001b[1;32mdef\u001b[0m \u001b[0massertEqual\u001b[0m\u001b[1;33m(\u001b[0m\u001b[0mself\u001b[0m\u001b[1;33m,\u001b[0m \u001b[0mfirst\u001b[0m\u001b[1;33m,\u001b[0m \u001b[0msecond\u001b[0m\u001b[1;33m,\u001b[0m \u001b[0mmsg\u001b[0m\u001b[1;33m=\u001b[0m\u001b[0mNone\u001b[0m\u001b[1;33m)\u001b[0m\u001b[1;33m:\u001b[0m\u001b[1;33m\u001b[0m\u001b[0m\n",
      "\u001b[1;31mAssertionError\u001b[0m: 0 != 5.45"
     ]
    }
   ],
   "source": [
    "from nose.tools import assert_almost_equal, assert_equal\n",
    "\n",
    "assert_equal(split, 5.45)\n",
    "assert_almost_equal(mingain, 0.38, places=1)"
   ]
  },
  {
   "cell_type": "code",
   "execution_count": null,
   "metadata": {
    "scrolled": false
   },
   "outputs": [],
   "source": [
    "print dt"
   ]
  },
  {
   "cell_type": "code",
   "execution_count": null,
   "metadata": {
    "scrolled": true
   },
   "outputs": [],
   "source": [
    "print dt.find_depth()"
   ]
  },
  {
   "cell_type": "code",
   "execution_count": null,
   "metadata": {
    "scrolled": true,
    "slideshow": {
     "slide_type": "-"
    }
   },
   "outputs": [],
   "source": [
    "# Split your data into training and test-set...\n",
    "Xtrain=[],Ytrain=[]\n",
    "Xtest=[],Ytest=[]\n",
    "print \" Training Data Set Dimensions=\", Xtrain.shape, \"Training True Class labels dimensions\", Ytrain.shape   \n",
    "print \" Test Data Set Dimensions=\", Xtest.shape, \"Test True Class labels dimensions\", Ytest.shape   \n"
   ]
  },
  {
   "cell_type": "code",
   "execution_count": null,
   "metadata": {
    "scrolled": false,
    "slideshow": {
     "slide_type": "slide"
    }
   },
   "outputs": [],
   "source": [
    "# Lets train a Decision Tree Classifier on Petal Length and Width\n",
    "feat=[0,1]\n",
    "dt=DecisionTree(0.95,5)\n",
    "dt.train(Xtrain[:,feat],Ytrain)\n",
    "print dt"
   ]
  },
  {
   "cell_type": "code",
   "execution_count": null,
   "metadata": {
    "scrolled": true,
    "slideshow": {
     "slide_type": "slide"
    }
   },
   "outputs": [],
   "source": [
    "#Lets test it on the set of unseen examples...\n",
    "feat=[0,1]\n",
    "pclasses=dt.test(Xtest[:,feat])\n"
   ]
  },
  {
   "cell_type": "code",
   "execution_count": null,
   "metadata": {
    "scrolled": false
   },
   "outputs": [],
   "source": [
    "print pclasses"
   ]
  },
  {
   "cell_type": "markdown",
   "metadata": {
    "slideshow": {
     "slide_type": "slide"
    }
   },
   "source": [
    "Lets see how good we are doing...\n",
    "=================="
   ]
  },
  {
   "cell_type": "code",
   "execution_count": null,
   "metadata": {
    "scrolled": true,
    "slideshow": {
     "slide_type": "slide"
    }
   },
   "outputs": [],
   "source": [
    "#Lets see how good we are doing, by finding the accuracy on the test set..\n",
    "print np.sum(pclasses==Ytest)\n",
    "print \"Accuracy = \", np.sum(pclasses==Ytest)/float(Ytest.shape[0])"
   ]
  },
  {
   "cell_type": "code",
   "execution_count": null,
   "metadata": {
    "deletable": false,
    "nbgrader": {
     "checksum": "a67690827399cc59eead882a1cc823fc",
     "grade": true,
     "grade_id": "two_features",
     "locked": true,
     "points": 5,
     "solution": false
    }
   },
   "outputs": [],
   "source": [
    "from nose.tools import assert_greater_equal\n",
    "feat=[0,1]\n",
    "dt=DecisionTree(0.95,5)\n",
    "dt.train(Xtrain[:,feat],Ytrain)\n",
    "pclasses=dt.test(Xtest[:,feat])\n",
    "acc = np.sum(pclasses==Ytest)/float(Ytest.shape[0])\n",
    "assert_greater_equal(acc, 0.90)"
   ]
  },
  {
   "cell_type": "markdown",
   "metadata": {},
   "source": [
    "# Lets Train on all four features...."
   ]
  },
  {
   "cell_type": "code",
   "execution_count": null,
   "metadata": {
    "scrolled": true
   },
   "outputs": [],
   "source": [
    "#Lets Train on all four features....\n",
    "\n",
    "# Lets train a Decision Tree Classifier on Petal Length and Width\n",
    "feat=[0, 1, 2, 3]\n",
    "dt=DecisionTree(0.95,5)\n",
    "dt.train(Xtrain[:,feat],Ytrain)\n",
    "pclasses=dt.test(Xtest[:,feat])\n",
    "#Lets see how good we are doing, by finding the accuracy on the test set..\n",
    "print np.sum(pclasses==Ytest)\n",
    "print \"Accuracy = \", np.sum(pclasses==Ytest)/float(Ytest.shape[0])"
   ]
  },
  {
   "cell_type": "markdown",
   "metadata": {},
   "source": [
    "# Lets Train on all four features and for all three classes...."
   ]
  },
  {
   "cell_type": "code",
   "execution_count": null,
   "metadata": {
    "scrolled": true
   },
   "outputs": [],
   "source": [
    "X=np.asarray(data[['SepalLength','SepalWidth','PetalLength','PetalWidth']].dropna())\n",
    "Y=np.asarray(data['Class'].dropna())\n",
    "print \" Data Set Dimensions=\", X.shape, \" True Class labels dimensions\", Y.shape"
   ]
  },
  {
   "cell_type": "code",
   "execution_count": null,
   "metadata": {
    "scrolled": true
   },
   "outputs": [],
   "source": [
    "# Split your data into training and test-set... \n",
    "# see the documentation of split_data in tools for further information...\n",
    "Xtrain=[],Ytrain=[]\n",
    "Xtest=[],Ytest=[]\n",
    "\n",
    "print \" Training Data Set Dimensions=\", Xtrain.shape, \"Training True Class labels dimensions\", Ytrain.shape   \n",
    "print \" Test Data Set Dimensions=\", Xtest.shape, \"Test True Class labels dimensions\", Ytest.shape   \n"
   ]
  },
  {
   "cell_type": "code",
   "execution_count": null,
   "metadata": {
    "scrolled": true
   },
   "outputs": [],
   "source": [
    "feat=[0, 1,2,3]\n",
    "dt=DecisionTree(0.95,5)\n",
    "good=[0,1]\n",
    "dt.train(Xtrain[:,good],Ytrain)\n",
    "pclasses=dt.test(Xtest[:,good])\n",
    "#Lets see how good we are doing, by finding the accuracy on the test set..\n",
    "print np.sum(pclasses==Ytest)\n",
    "print \"Accuracy = \", np.sum(pclasses==Ytest)/float(Ytest.shape[0])"
   ]
  },
  {
   "cell_type": "code",
   "execution_count": null,
   "metadata": {
    "deletable": false,
    "nbgrader": {
     "checksum": "972ca9bb1ffa85dd250fb9b790bca865",
     "grade": true,
     "grade_id": "all_features",
     "locked": true,
     "points": 5,
     "solution": false
    }
   },
   "outputs": [],
   "source": [
    "from nose.tools import assert_greater_equal\n",
    "\n",
    "feat=[0, 1, 2, 3]\n",
    "dt=DecisionTree(0.95,5)\n",
    "good=[0,1]\n",
    "dt.train(Xtrain[:,good],Ytrain)\n",
    "pclasses=dt.te(Xtest[:,feat])\n",
    "#Lets see how good we are doing, by finding the accuracy on the test set..\n",
    "acc = np.sum(pclasses==Ytest)/float(Ytest.shape[0])\n",
    "assert_greater_equal(acc, 0.90)\n"
   ]
  },
  {
   "cell_type": "markdown",
   "metadata": {
    "slideshow": {
     "slide_type": "slide"
    }
   },
   "source": [
    "What can you conclude ?\n",
    "====================\n",
    "Please write your observation....\n",
    "\n"
   ]
  },
  {
   "cell_type": "code",
   "execution_count": null,
   "metadata": {},
   "outputs": [],
   "source": []
  }
 ],
 "metadata": {
  "anaconda-cloud": {},
  "kernelspec": {
   "display_name": "Python 2",
   "language": "python",
   "name": "python2"
  },
  "language_info": {
   "codemirror_mode": {
    "name": "ipython",
    "version": 2
   },
   "file_extension": ".py",
   "mimetype": "text/x-python",
   "name": "python",
   "nbconvert_exporter": "python",
   "pygments_lexer": "ipython2",
   "version": "2.7.15"
  }
 },
 "nbformat": 4,
 "nbformat_minor": 1
}
